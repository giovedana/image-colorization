{
 "cells": [
  {
   "cell_type": "markdown",
   "metadata": {},
   "source": [
    "## Sources"
   ]
  },
  {
   "cell_type": "markdown",
   "metadata": {},
   "source": [
    "The sources for this implemetation can be found at:\n",
    "- https://richzhang.github.io/colorization/\n",
    "- https://github.com/richzhang/colorization\n",
    "- https://github.com/foamliu/Colorful-Image-Colorization"
   ]
  },
  {
   "cell_type": "markdown",
   "metadata": {},
   "source": [
    "## Code"
   ]
  },
  {
   "cell_type": "markdown",
   "metadata": {},
   "source": [
    "#### Useful imports"
   ]
  },
  {
   "cell_type": "code",
   "execution_count": 1,
   "metadata": {},
   "outputs": [],
   "source": [
    "import os\n",
    "import numpy as np\n",
    "import cv2 as cv\n",
    "import sklearn.neighbors as nn\n",
    "import keras.backend as K\n",
    "import tensorflow as tf\n",
    "from keras.layers import Input, Conv2D, BatchNormalization, UpSampling2D\n",
    "from keras.models import Model"
   ]
  },
  {
   "cell_type": "markdown",
   "metadata": {},
   "source": [
    "#### Initial configuration of input size, temperature and epsilon."
   ]
  },
  {
   "cell_type": "code",
   "execution_count": 2,
   "metadata": {},
   "outputs": [],
   "source": [
    "img_rows, img_cols = 256, 256\n",
    "channel = 3\n",
    "num_classes = 313\n",
    "epsilon = 1e-6 # Default = 1e-6\n",
    "epsilon_sqr = epsilon ** 2\n",
    "\n",
    "nb_neighbors = 5\n",
    "T = 0.8 # Temperature parameter"
   ]
  },
  {
   "cell_type": "markdown",
   "metadata": {},
   "source": [
    "#### Implementation of original function to enhance the images."
   ]
  },
  {
   "cell_type": "code",
   "execution_count": 3,
   "metadata": {},
   "outputs": [],
   "source": [
    "def enhance_saturation(hsvImg):\n",
    "    hsvImg[..., 1] = hsvImg[..., 1] * ( enhance_weight*(np.exp( - np.absolute( ( (hsvImg[...,1] / 255) - center ) * bell_tighness )**exponentiality )) + 1 )\n",
    "    hsvImg[..., 1] = np.clip(hsvImg[..., 1], 0, 255)                          \n",
    "    out_bgr = cv.cvtColor(hsvImg, cv.COLOR_HSV2BGR)\n",
    "    return out_bgr"
   ]
  },
  {
   "cell_type": "markdown",
   "metadata": {},
   "source": [
    "#### Configuration of enchancing parameters."
   ]
  },
  {
   "cell_type": "code",
   "execution_count": 4,
   "metadata": {},
   "outputs": [],
   "source": [
    "enhance = True # True or False, True to enable the enhancement, False to disable\n",
    "enhance_weight = 0.55 # Range 0-1 Default = 0.55\n",
    "bell_tighness = 3 # Default 5\n",
    "exponentiality = 4 # Default 3\n",
    "center = 0.2 #default 1/5"
   ]
  },
  {
   "cell_type": "markdown",
   "metadata": {},
   "source": [
    "#### Construction of the Model"
   ]
  },
  {
   "cell_type": "code",
   "execution_count": 5,
   "metadata": {},
   "outputs": [],
   "source": [
    "def build_encoder_decoder():\n",
    "    kernel = 3\n",
    "\n",
    "    input_tensor = Input(shape=(img_rows, img_cols, 1))\n",
    "    x = Conv2D(64, (kernel, kernel), activation='relu', padding='same', name='conv1_1')(input_tensor)\n",
    "    x = Conv2D(64, (kernel, kernel), activation='relu', padding='same', name='conv1_2', strides=(2, 2))(x)\n",
    "    x = BatchNormalization()(x)\n",
    "\n",
    "    x = Conv2D(128, (kernel, kernel), activation='relu', padding='same', name='conv2_1')(x)\n",
    "    x = Conv2D(128, (kernel, kernel), activation='relu', padding='same', name='conv2_2', strides=(2, 2))(x)\n",
    "    x = BatchNormalization()(x)\n",
    "\n",
    "    x = Conv2D(256, (kernel, kernel), activation='relu', padding='same', name='conv3_1')(x)\n",
    "    x = Conv2D(256, (kernel, kernel), activation='relu', padding='same', name='conv3_2')(x)\n",
    "    x = Conv2D(256, (kernel, kernel), activation='relu', padding='same', name='conv3_3', strides=(2, 2))(x)\n",
    "    x = BatchNormalization()(x)\n",
    "\n",
    "    x = Conv2D(512, (kernel, kernel), activation='relu', padding='same', name='conv4_1')(x)\n",
    "    x = Conv2D(512, (kernel, kernel), activation='relu', padding='same', name='conv4_2')(x)\n",
    "    x = Conv2D(512, (kernel, kernel), activation='relu', padding='same', name='conv4_3')(x)\n",
    "    x = BatchNormalization()(x)\n",
    "\n",
    "    x = Conv2D(512, (kernel, kernel), activation='relu', padding='same', dilation_rate=2, name='conv5_1')(x)\n",
    "    x = Conv2D(512, (kernel, kernel), activation='relu', padding='same', dilation_rate=2, name='conv5_2')(x)\n",
    "    x = Conv2D(512, (kernel, kernel), activation='relu', padding='same', dilation_rate=2, name='conv5_3')(x)\n",
    "    x = BatchNormalization()(x)\n",
    "\n",
    "    x = Conv2D(512, (kernel, kernel), activation='relu', padding='same', dilation_rate=2, name='conv6_1')(x)\n",
    "    x = Conv2D(512, (kernel, kernel), activation='relu', padding='same', dilation_rate=2, name='conv6_2')(x)\n",
    "    x = Conv2D(512, (kernel, kernel), activation='relu', padding='same', dilation_rate=2, name='conv6_3')(x)\n",
    "    x = BatchNormalization()(x)\n",
    "\n",
    "    x = Conv2D(256, (kernel, kernel), activation='relu', padding='same', name='conv7_1')(x)\n",
    "    x = Conv2D(256, (kernel, kernel), activation='relu', padding='same', name='conv7_2')(x)\n",
    "    x = Conv2D(256, (kernel, kernel), activation='relu', padding='same', name='conv7_3')(x)\n",
    "    x = BatchNormalization()(x)\n",
    "\n",
    "    x = UpSampling2D(size=(2, 2))(x)\n",
    "    x = Conv2D(128, (kernel, kernel), activation='relu', padding='same', name='conv8_1')(x)\n",
    "    x = Conv2D(128, (kernel, kernel), activation='relu', padding='same', name='conv8_2')(x)\n",
    "    x = Conv2D(128, (kernel, kernel), activation='relu', padding='same', name='conv8_3')(x)\n",
    "    x = BatchNormalization()(x)\n",
    "\n",
    "    outputs = Conv2D(num_classes, (1, 1), activation='softmax', padding='same', name='pred')(x)\n",
    "\n",
    "    model = Model(inputs=input_tensor, outputs=outputs, name=\"ColorNet\")\n",
    "    return model"
   ]
  },
  {
   "cell_type": "markdown",
   "metadata": {},
   "source": [
    "#### Preprocessing on input images and creation of output.\n"
   ]
  },
  {
   "cell_type": "code",
   "execution_count": 7,
   "metadata": {},
   "outputs": [
    {
     "name": "stdout",
     "output_type": "stream",
     "text": [
      "Model: \"ColorNet\"\n",
      "_________________________________________________________________\n",
      "Layer (type)                 Output Shape              Param #   \n",
      "=================================================================\n",
      "input_2 (InputLayer)         [(None, 256, 256, 1)]     0         \n",
      "_________________________________________________________________\n",
      "conv1_1 (Conv2D)             (None, 256, 256, 64)      640       \n",
      "_________________________________________________________________\n",
      "conv1_2 (Conv2D)             (None, 128, 128, 64)      36928     \n",
      "_________________________________________________________________\n",
      "batch_normalization_8 (Batch (None, 128, 128, 64)      256       \n",
      "_________________________________________________________________\n",
      "conv2_1 (Conv2D)             (None, 128, 128, 128)     73856     \n",
      "_________________________________________________________________\n",
      "conv2_2 (Conv2D)             (None, 64, 64, 128)       147584    \n",
      "_________________________________________________________________\n",
      "batch_normalization_9 (Batch (None, 64, 64, 128)       512       \n",
      "_________________________________________________________________\n",
      "conv3_1 (Conv2D)             (None, 64, 64, 256)       295168    \n",
      "_________________________________________________________________\n",
      "conv3_2 (Conv2D)             (None, 64, 64, 256)       590080    \n",
      "_________________________________________________________________\n",
      "conv3_3 (Conv2D)             (None, 32, 32, 256)       590080    \n",
      "_________________________________________________________________\n",
      "batch_normalization_10 (Batc (None, 32, 32, 256)       1024      \n",
      "_________________________________________________________________\n",
      "conv4_1 (Conv2D)             (None, 32, 32, 512)       1180160   \n",
      "_________________________________________________________________\n",
      "conv4_2 (Conv2D)             (None, 32, 32, 512)       2359808   \n",
      "_________________________________________________________________\n",
      "conv4_3 (Conv2D)             (None, 32, 32, 512)       2359808   \n",
      "_________________________________________________________________\n",
      "batch_normalization_11 (Batc (None, 32, 32, 512)       2048      \n",
      "_________________________________________________________________\n",
      "conv5_1 (Conv2D)             (None, 32, 32, 512)       2359808   \n",
      "_________________________________________________________________\n",
      "conv5_2 (Conv2D)             (None, 32, 32, 512)       2359808   \n",
      "_________________________________________________________________\n",
      "conv5_3 (Conv2D)             (None, 32, 32, 512)       2359808   \n",
      "_________________________________________________________________\n",
      "batch_normalization_12 (Batc (None, 32, 32, 512)       2048      \n",
      "_________________________________________________________________\n",
      "conv6_1 (Conv2D)             (None, 32, 32, 512)       2359808   \n",
      "_________________________________________________________________\n",
      "conv6_2 (Conv2D)             (None, 32, 32, 512)       2359808   \n",
      "_________________________________________________________________\n",
      "conv6_3 (Conv2D)             (None, 32, 32, 512)       2359808   \n",
      "_________________________________________________________________\n",
      "batch_normalization_13 (Batc (None, 32, 32, 512)       2048      \n",
      "_________________________________________________________________\n",
      "conv7_1 (Conv2D)             (None, 32, 32, 256)       1179904   \n",
      "_________________________________________________________________\n",
      "conv7_2 (Conv2D)             (None, 32, 32, 256)       590080    \n",
      "_________________________________________________________________\n",
      "conv7_3 (Conv2D)             (None, 32, 32, 256)       590080    \n",
      "_________________________________________________________________\n",
      "batch_normalization_14 (Batc (None, 32, 32, 256)       1024      \n",
      "_________________________________________________________________\n",
      "up_sampling2d_1 (UpSampling2 (None, 64, 64, 256)       0         \n",
      "_________________________________________________________________\n",
      "conv8_1 (Conv2D)             (None, 64, 64, 128)       295040    \n",
      "_________________________________________________________________\n",
      "conv8_2 (Conv2D)             (None, 64, 64, 128)       147584    \n",
      "_________________________________________________________________\n",
      "conv8_3 (Conv2D)             (None, 64, 64, 128)       147584    \n",
      "_________________________________________________________________\n",
      "batch_normalization_15 (Batc (None, 64, 64, 128)       512       \n",
      "_________________________________________________________________\n",
      "pred (Conv2D)                (None, 64, 64, 313)       40377     \n",
      "=================================================================\n",
      "Total params: 24,793,081\n",
      "Trainable params: 24,788,345\n",
      "Non-trainable params: 4,736\n",
      "_________________________________________________________________\n",
      "None\n",
      "Start processing image: demo_input_images\\ILSVRC2012_val_00000003.JPEG\n",
      "Start processing image: demo_input_images\\ILSVRC2012_val_00000007.JPEG\n",
      "Start processing image: demo_input_images\\ILSVRC2012_val_00000012.JPEG\n",
      "Start processing image: demo_input_images\\ILSVRC2012_val_00000015.JPEG\n",
      "Start processing image: demo_input_images\\ILSVRC2012_val_00000023.JPEG\n",
      "Start processing image: demo_input_images\\ILSVRC2012_val_00000028.JPEG\n",
      "Start processing image: demo_input_images\\ILSVRC2012_val_00000062.JPEG\n",
      "Start processing image: demo_input_images\\ILSVRC2012_val_00000082.JPEG\n",
      "Start processing image: demo_input_images\\ILSVRC2012_val_00000157.JPEG\n",
      "Start processing image: demo_input_images\\ILSVRC2012_val_00000441.JPEG\n",
      "Start processing image: demo_input_images\\ILSVRC2012_val_00000511.JPEG\n",
      "Start processing image: demo_input_images\\ILSVRC2012_val_00000674.JPEG\n",
      "Start processing image: demo_input_images\\ILSVRC2012_val_00037116.JPEG\n"
     ]
    }
   ],
   "source": [
    "    model_weights_path = 'weights/model_weights.hdf5'\n",
    "    model = build_encoder_decoder()\n",
    "    model.load_weights(model_weights_path)\n",
    "\n",
    "    print(model.summary())\n",
    "  \n",
    "    image_folder = 'demo_input_images'\n",
    "    names_file = 'valid_images.txt'\n",
    "    with open(names_file, 'r') as f:\n",
    "        names = f.read().splitlines()\n",
    "    samples = names\n",
    "    h, w = img_rows // 4, img_cols // 4\n",
    "\n",
    "    # Load the array of quantized ab value\n",
    "    q_ab = np.load(\"data/pts_in_hull.npy\")\n",
    "    nb_q = q_ab.shape[0]\n",
    "\n",
    "    # Fit a NN to q_ab\n",
    "    nn_finder = nn.NearestNeighbors(n_neighbors=nb_neighbors, algorithm='ball_tree').fit(q_ab)\n",
    "\n",
    "\n",
    "    for i in range(len(samples)):\n",
    "        \n",
    "        image_name = samples[i]\n",
    "        filename = os.path.join(image_folder, image_name)\n",
    "        print('Start processing image: {}'.format(filename))\n",
    "        \n",
    "        bgr = cv.imread(filename)\n",
    "        gray = cv.imread(filename, 0)\n",
    "        bgr = cv.resize(bgr, (img_rows, img_cols), cv.INTER_CUBIC)\n",
    "        gray = cv.resize(gray, (img_rows, img_cols), cv.INTER_CUBIC)\n",
    "        lab = cv.cvtColor(bgr, cv.COLOR_BGR2LAB)\n",
    "        L = lab[:, :, 0]\n",
    "        a = lab[:, :, 1]\n",
    "        b = lab[:, :, 2]\n",
    "        x_test = np.empty((1, img_rows, img_cols, 1), dtype=np.float32)\n",
    "        x_test[0, :, :, 0] = gray / 255.\n",
    "\n",
    "        X_colorized = model.predict(x_test)\n",
    "        X_colorized = X_colorized.reshape((h * w, nb_q))\n",
    "\n",
    "        X_colorized = np.exp(np.log(X_colorized + epsilon) / T)\n",
    "        X_colorized = X_colorized / np.sum(X_colorized, 1)[:, np.newaxis]\n",
    "\n",
    "        q_a = q_ab[:, 0].reshape((1, 313))\n",
    "        q_b = q_ab[:, 1].reshape((1, 313))\n",
    "\n",
    "        X_a = np.sum(X_colorized * q_a, 1).reshape((h, w))\n",
    "        X_b = np.sum(X_colorized * q_b, 1).reshape((h, w))\n",
    "        X_a = cv.resize(X_a, (img_rows, img_cols), cv.INTER_CUBIC)\n",
    "        X_b = cv.resize(X_b, (img_rows, img_cols), cv.INTER_CUBIC)\n",
    "        X_a = X_a + 128\n",
    "        X_b = X_b + 128\n",
    "\n",
    "        out_lab = np.zeros((img_rows, img_cols, 3), dtype=np.int32)\n",
    "        out_lab[:, :, 0] = lab[:, :, 0]\n",
    "        out_lab[:, :, 1] = X_a\n",
    "        out_lab[:, :, 2] = X_b\n",
    "        out_L = out_lab[:, :, 0]\n",
    "        out_a = out_lab[:, :, 1]\n",
    "        out_b = out_lab[:, :, 2]\n",
    "        out_lab = out_lab.astype(np.uint8)\n",
    "        out_bgr = cv.cvtColor(out_lab, cv.COLOR_LAB2BGR)\n",
    "        out_bgr = out_bgr.astype(np.uint8)\n",
    "        \n",
    "        if enhance:\n",
    "            hsvImg = cv.cvtColor(out_bgr,cv.COLOR_BGR2HSV)\n",
    "            out_bgr = enhance_saturation(hsvImg)\n",
    "      \n",
    "        if not os.path.exists('output_images'):\n",
    "            os.makedirs('output_images')\n",
    "\n",
    "        cv.imwrite('output_images/{}_image.png'.format(i), gray)\n",
    "        cv.imwrite('output_images/{}_gt.png'.format(i), bgr)\n",
    "        cv.imwrite('output_images/{}_out_t{}.png'.format(i,T), out_bgr)"
   ]
  }
 ],
 "metadata": {
  "kernelspec": {
   "display_name": "Python 3",
   "language": "python",
   "name": "python3"
  },
  "language_info": {
   "codemirror_mode": {
    "name": "ipython",
    "version": 3
   },
   "file_extension": ".py",
   "mimetype": "text/x-python",
   "name": "python",
   "nbconvert_exporter": "python",
   "pygments_lexer": "ipython3",
   "version": "3.8.5"
  }
 },
 "nbformat": 4,
 "nbformat_minor": 4
}
